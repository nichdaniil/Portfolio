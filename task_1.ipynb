{
 "cells": [
  {
   "cell_type": "markdown",
   "metadata": {},
   "source": [
    "# Задание 1. A/B–тестирование"
   ]
  },
  {
   "cell_type": "markdown",
   "metadata": {},
   "source": [
    "Одной из основных задач аналитика в нашей команде является корректное проведение экспериментов. \n",
    "Для этого мы применяем метод A/B–тестирования. \n",
    "В ходе тестирования одной гипотезы целевой группе была предложена новая механика оплаты услуг на сайте, у контрольной группы \n",
    "оставалась базовая механика. \n",
    "В качестве задания Вам необходимо проанализировать итоги эксперимента и сделать вывод, \n",
    "стоит ли запускать новую механику оплаты на всех пользователей."
   ]
  },
  {
   "cell_type": "code",
   "execution_count": 1,
   "metadata": {},
   "outputs": [],
   "source": [
    "import pandas as pd\n",
    "import numpy as np\n",
    "import seaborn as sns\n",
    "import matplotlib.pyplot as plt\n",
    "from tqdm.auto import tqdm\n",
    "from scipy import stats\n",
    "import scipy.stats as ss\n",
    "import statsmodels.stats.api as sms\n",
    "from scipy.stats import norm\n",
    "import random\n",
    "import pylab\n",
    "\n",
    "%matplotlib inline"
   ]
  },
  {
   "cell_type": "code",
   "execution_count": 2,
   "metadata": {},
   "outputs": [],
   "source": [
    "# Объявим функцию, которая позволит проверять гипотезы с помощью бутстрапа\n",
    "def get_bootstrap(\n",
    "    data_column_1, # числовые значения первой выборки\n",
    "    data_column_2, # числовые значения второй выборки\n",
    "    boot_it = 10000, # количество бутстрэп-подвыборок\n",
    "    statistic = np.mean, # интересующая нас статистика\n",
    "    bootstrap_conf_level = 0.95 # уровень значимости\n",
    "):\n",
    "    boot_data = []\n",
    "    for i in tqdm(range(boot_it)): # извлекаем подвыборки\n",
    "        samples_1 = data_column_1.sample(\n",
    "            len(data_column_1), \n",
    "            replace = True # параметр возвращения\n",
    "        ).values\n",
    "        \n",
    "        samples_2 = data_column_2.sample(\n",
    "            len(data_column_1), \n",
    "            replace = True\n",
    "        ).values\n",
    "        \n",
    "        boot_data.append(statistic(samples_1)-statistic(samples_2)) # mean() - применяем статистику\n",
    "        \n",
    "    pd_boot_data = pd.DataFrame(boot_data)\n",
    "        \n",
    "    left_quant = (1 - bootstrap_conf_level)/2\n",
    "    right_quant = 1 - (1 - bootstrap_conf_level) / 2\n",
    "    quants = pd_boot_data.quantile([left_quant, right_quant])\n",
    "        \n",
    "    p_1 = norm.cdf(\n",
    "        x = 0, \n",
    "        loc = np.mean(boot_data), \n",
    "        scale = np.std(boot_data)\n",
    "    )\n",
    "    p_2 = norm.cdf(\n",
    "        x = 0, \n",
    "        loc = -np.mean(boot_data), \n",
    "        scale = np.std(boot_data)\n",
    "    )\n",
    "    p_value = min(p_1, p_2) * 2\n",
    "        \n",
    "    # Визуализация\n",
    "#     _, _, bars = plt.hist(pd_boot_data[0], bins = 50)\n",
    "#     for bar in bars:\n",
    "#         if bar.get_x() <= quants.iloc[0][0] or bar.get_x() >= quants.iloc[1][0]:\n",
    "#             bar.set_facecolor('red')\n",
    "#         else: \n",
    "#             bar.set_facecolor('grey')\n",
    "#             bar.set_edgecolor('black')\n",
    "    \n",
    "#     plt.style.use('ggplot')\n",
    "#     plt.vlines(quants,ymin=0,ymax=50,linestyle='--')\n",
    "#     plt.xlabel('boot_data')\n",
    "#     plt.ylabel('frequency')\n",
    "#     plt.title(\"Histogram of boot_data\")\n",
    "#     plt.show()\n",
    "       \n",
    "    return {\"boot_data\": boot_data, \n",
    "            \"quants\": quants, \n",
    "            \"p_value\": p_value}"
   ]
  },
  {
   "cell_type": "code",
   "execution_count": 3,
   "metadata": {},
   "outputs": [
    {
     "name": "stdout",
     "output_type": "stream",
     "text": [
      "Размеры таблицы: 74484 строчки и 2 столбца\n"
     ]
    },
    {
     "data": {
      "text/html": [
       "<div>\n",
       "<style scoped>\n",
       "    .dataframe tbody tr th:only-of-type {\n",
       "        vertical-align: middle;\n",
       "    }\n",
       "\n",
       "    .dataframe tbody tr th {\n",
       "        vertical-align: top;\n",
       "    }\n",
       "\n",
       "    .dataframe thead th {\n",
       "        text-align: right;\n",
       "    }\n",
       "</style>\n",
       "<table border=\"1\" class=\"dataframe\">\n",
       "  <thead>\n",
       "    <tr style=\"text-align: right;\">\n",
       "      <th></th>\n",
       "      <th>id</th>\n",
       "      <th>grp</th>\n",
       "    </tr>\n",
       "  </thead>\n",
       "  <tbody>\n",
       "    <tr>\n",
       "      <th>0</th>\n",
       "      <td>1489</td>\n",
       "      <td>B</td>\n",
       "    </tr>\n",
       "    <tr>\n",
       "      <th>1</th>\n",
       "      <td>1627</td>\n",
       "      <td>A</td>\n",
       "    </tr>\n",
       "    <tr>\n",
       "      <th>2</th>\n",
       "      <td>1768</td>\n",
       "      <td>B</td>\n",
       "    </tr>\n",
       "    <tr>\n",
       "      <th>3</th>\n",
       "      <td>1783</td>\n",
       "      <td>B</td>\n",
       "    </tr>\n",
       "    <tr>\n",
       "      <th>4</th>\n",
       "      <td>1794</td>\n",
       "      <td>A</td>\n",
       "    </tr>\n",
       "  </tbody>\n",
       "</table>\n",
       "</div>"
      ],
      "text/plain": [
       "     id grp\n",
       "0  1489   B\n",
       "1  1627   A\n",
       "2  1768   B\n",
       "3  1783   B\n",
       "4  1794   A"
      ]
     },
     "execution_count": 3,
     "metadata": {},
     "output_type": "execute_result"
    }
   ],
   "source": [
    "# Файл о принадлежности пользователя к контрольной или экспериментальной группе (А – контроль, B – целевая группа)\n",
    "df_groups = pd.read_csv(\"/mnt/HC_Volume_18315164/home-jupyter/jupyter-d-nichiporenko/final_project/Проект_2_groups.csv\", sep=';')\n",
    "print(f'Размеры таблицы: {df_groups.shape[0]} строчки и {df_groups.shape[1]} столбца') # Cмотрим размеры \n",
    "df_groups.head()"
   ]
  },
  {
   "cell_type": "code",
   "execution_count": 4,
   "metadata": {},
   "outputs": [
    {
     "data": {
      "text/plain": [
       "B    59813\n",
       "A    14671\n",
       "Name: grp, dtype: int64"
      ]
     },
     "execution_count": 4,
     "metadata": {},
     "output_type": "execute_result"
    }
   ],
   "source": [
    "# Здесь видим, что в целевая группа преобладает\n",
    "df_groups.grp.value_counts()"
   ]
  },
  {
   "cell_type": "code",
   "execution_count": 5,
   "metadata": {},
   "outputs": [
    {
     "data": {
      "text/plain": [
       "74484"
      ]
     },
     "execution_count": 5,
     "metadata": {},
     "output_type": "execute_result"
    }
   ],
   "source": [
    "# id не повторятся, следовательно имеем 74484 пользователся в данной таблице\n",
    "df_groups.id.nunique()"
   ]
  },
  {
   "cell_type": "code",
   "execution_count": null,
   "metadata": {},
   "outputs": [],
   "source": []
  },
  {
   "cell_type": "code",
   "execution_count": 6,
   "metadata": {},
   "outputs": [
    {
     "data": {
      "text/html": [
       "<div>\n",
       "<style scoped>\n",
       "    .dataframe tbody tr th:only-of-type {\n",
       "        vertical-align: middle;\n",
       "    }\n",
       "\n",
       "    .dataframe tbody tr th {\n",
       "        vertical-align: top;\n",
       "    }\n",
       "\n",
       "    .dataframe thead th {\n",
       "        text-align: right;\n",
       "    }\n",
       "</style>\n",
       "<table border=\"1\" class=\"dataframe\">\n",
       "  <thead>\n",
       "    <tr style=\"text-align: right;\">\n",
       "      <th></th>\n",
       "      <th>student_id</th>\n",
       "    </tr>\n",
       "  </thead>\n",
       "  <tbody>\n",
       "    <tr>\n",
       "      <th>0</th>\n",
       "      <td>581585</td>\n",
       "    </tr>\n",
       "    <tr>\n",
       "      <th>1</th>\n",
       "      <td>5723133</td>\n",
       "    </tr>\n",
       "    <tr>\n",
       "      <th>2</th>\n",
       "      <td>3276743</td>\n",
       "    </tr>\n",
       "    <tr>\n",
       "      <th>3</th>\n",
       "      <td>4238589</td>\n",
       "    </tr>\n",
       "    <tr>\n",
       "      <th>4</th>\n",
       "      <td>4475369</td>\n",
       "    </tr>\n",
       "  </tbody>\n",
       "</table>\n",
       "</div>"
      ],
      "text/plain": [
       "   student_id\n",
       "0      581585\n",
       "1     5723133\n",
       "2     3276743\n",
       "3     4238589\n",
       "4     4475369"
      ]
     },
     "execution_count": 6,
     "metadata": {},
     "output_type": "execute_result"
    }
   ],
   "source": [
    "# Файл с информацией о пользователях, которые зашли на платформу в дни проведения эксперимента.\n",
    "df_users_visit = pd.read_csv(\"/mnt/HC_Volume_18315164/home-jupyter/jupyter-d-nichiporenko/final_project/Проект_2_active_studs.csv\")\n",
    "df_users_visit.head()"
   ]
  },
  {
   "cell_type": "code",
   "execution_count": 7,
   "metadata": {},
   "outputs": [],
   "source": [
    "# Сделаем из этих id список, чтобы в дальнейшем рассматривать только этих пользователей, потому что именно они учавствовали\n",
    "# в тесте.\n",
    "participating_id = df_users_visit.student_id.to_list()"
   ]
  },
  {
   "cell_type": "code",
   "execution_count": null,
   "metadata": {},
   "outputs": [],
   "source": []
  },
  {
   "cell_type": "code",
   "execution_count": 8,
   "metadata": {},
   "outputs": [
    {
     "data": {
      "text/html": [
       "<div>\n",
       "<style scoped>\n",
       "    .dataframe tbody tr th:only-of-type {\n",
       "        vertical-align: middle;\n",
       "    }\n",
       "\n",
       "    .dataframe tbody tr th {\n",
       "        vertical-align: top;\n",
       "    }\n",
       "\n",
       "    .dataframe thead th {\n",
       "        text-align: right;\n",
       "    }\n",
       "</style>\n",
       "<table border=\"1\" class=\"dataframe\">\n",
       "  <thead>\n",
       "    <tr style=\"text-align: right;\">\n",
       "      <th></th>\n",
       "      <th>student_id</th>\n",
       "      <th>rev</th>\n",
       "    </tr>\n",
       "  </thead>\n",
       "  <tbody>\n",
       "    <tr>\n",
       "      <th>0</th>\n",
       "      <td>1627</td>\n",
       "      <td>990.0</td>\n",
       "    </tr>\n",
       "    <tr>\n",
       "      <th>1</th>\n",
       "      <td>3185</td>\n",
       "      <td>690.0</td>\n",
       "    </tr>\n",
       "    <tr>\n",
       "      <th>2</th>\n",
       "      <td>25973</td>\n",
       "      <td>690.0</td>\n",
       "    </tr>\n",
       "    <tr>\n",
       "      <th>3</th>\n",
       "      <td>26280</td>\n",
       "      <td>690.0</td>\n",
       "    </tr>\n",
       "    <tr>\n",
       "      <th>4</th>\n",
       "      <td>100300</td>\n",
       "      <td>990.0</td>\n",
       "    </tr>\n",
       "  </tbody>\n",
       "</table>\n",
       "</div>"
      ],
      "text/plain": [
       "   student_id    rev\n",
       "0        1627  990.0\n",
       "1        3185  690.0\n",
       "2       25973  690.0\n",
       "3       26280  690.0\n",
       "4      100300  990.0"
      ]
     },
     "execution_count": 8,
     "metadata": {},
     "output_type": "execute_result"
    }
   ],
   "source": [
    "# Файл с информацией об оплатах пользователей в дни проведения эксперимента\n",
    "df_checks = pd.read_csv('/mnt/HC_Volume_18315164/home-jupyter/jupyter-d-nichiporenko/final_project/Проект_2_checks.csv', sep=';')\n",
    "df_checks.head()"
   ]
  },
  {
   "cell_type": "code",
   "execution_count": 9,
   "metadata": {},
   "outputs": [
    {
     "data": {
      "text/plain": [
       "count     541.000000\n",
       "mean     1059.752317\n",
       "std       762.712359\n",
       "min       199.000000\n",
       "25%       290.000000\n",
       "50%       840.000000\n",
       "75%      1900.000000\n",
       "max      4650.000000\n",
       "Name: rev, dtype: float64"
      ]
     },
     "execution_count": 9,
     "metadata": {},
     "output_type": "execute_result"
    }
   ],
   "source": [
    "df_checks.rev.describe()"
   ]
  },
  {
   "cell_type": "code",
   "execution_count": 10,
   "metadata": {},
   "outputs": [
    {
     "data": {
      "text/plain": [
       "True"
      ]
     },
     "execution_count": 10,
     "metadata": {},
     "output_type": "execute_result"
    }
   ],
   "source": [
    "df_checks.student_id.count() == df_checks.student_id.nunique()"
   ]
  },
  {
   "cell_type": "code",
   "execution_count": 11,
   "metadata": {},
   "outputs": [
    {
     "data": {
      "text/html": [
       "<div>\n",
       "<style scoped>\n",
       "    .dataframe tbody tr th:only-of-type {\n",
       "        vertical-align: middle;\n",
       "    }\n",
       "\n",
       "    .dataframe tbody tr th {\n",
       "        vertical-align: top;\n",
       "    }\n",
       "\n",
       "    .dataframe thead th {\n",
       "        text-align: right;\n",
       "    }\n",
       "</style>\n",
       "<table border=\"1\" class=\"dataframe\">\n",
       "  <thead>\n",
       "    <tr style=\"text-align: right;\">\n",
       "      <th></th>\n",
       "      <th>id</th>\n",
       "      <th>rev</th>\n",
       "    </tr>\n",
       "  </thead>\n",
       "  <tbody>\n",
       "    <tr>\n",
       "      <th>0</th>\n",
       "      <td>1627</td>\n",
       "      <td>990.0</td>\n",
       "    </tr>\n",
       "    <tr>\n",
       "      <th>1</th>\n",
       "      <td>3185</td>\n",
       "      <td>690.0</td>\n",
       "    </tr>\n",
       "    <tr>\n",
       "      <th>2</th>\n",
       "      <td>25973</td>\n",
       "      <td>690.0</td>\n",
       "    </tr>\n",
       "    <tr>\n",
       "      <th>3</th>\n",
       "      <td>26280</td>\n",
       "      <td>690.0</td>\n",
       "    </tr>\n",
       "    <tr>\n",
       "      <th>4</th>\n",
       "      <td>100300</td>\n",
       "      <td>990.0</td>\n",
       "    </tr>\n",
       "  </tbody>\n",
       "</table>\n",
       "</div>"
      ],
      "text/plain": [
       "       id    rev\n",
       "0    1627  990.0\n",
       "1    3185  690.0\n",
       "2   25973  690.0\n",
       "3   26280  690.0\n",
       "4  100300  990.0"
      ]
     },
     "execution_count": 11,
     "metadata": {},
     "output_type": "execute_result"
    }
   ],
   "source": [
    "df_checks = df_checks.rename(columns={'student_id': 'id'})\n",
    "df_checks.head()"
   ]
  },
  {
   "cell_type": "code",
   "execution_count": null,
   "metadata": {},
   "outputs": [],
   "source": []
  },
  {
   "cell_type": "code",
   "execution_count": 12,
   "metadata": {},
   "outputs": [
    {
     "data": {
      "text/html": [
       "<div>\n",
       "<style scoped>\n",
       "    .dataframe tbody tr th:only-of-type {\n",
       "        vertical-align: middle;\n",
       "    }\n",
       "\n",
       "    .dataframe tbody tr th {\n",
       "        vertical-align: top;\n",
       "    }\n",
       "\n",
       "    .dataframe thead th {\n",
       "        text-align: right;\n",
       "    }\n",
       "</style>\n",
       "<table border=\"1\" class=\"dataframe\">\n",
       "  <thead>\n",
       "    <tr style=\"text-align: right;\">\n",
       "      <th></th>\n",
       "      <th>id</th>\n",
       "      <th>grp</th>\n",
       "    </tr>\n",
       "  </thead>\n",
       "  <tbody>\n",
       "    <tr>\n",
       "      <th>1</th>\n",
       "      <td>1627</td>\n",
       "      <td>A</td>\n",
       "    </tr>\n",
       "    <tr>\n",
       "      <th>10</th>\n",
       "      <td>2085</td>\n",
       "      <td>B</td>\n",
       "    </tr>\n",
       "    <tr>\n",
       "      <th>12</th>\n",
       "      <td>2215</td>\n",
       "      <td>B</td>\n",
       "    </tr>\n",
       "    <tr>\n",
       "      <th>43</th>\n",
       "      <td>3391</td>\n",
       "      <td>A</td>\n",
       "    </tr>\n",
       "    <tr>\n",
       "      <th>45</th>\n",
       "      <td>3401</td>\n",
       "      <td>B</td>\n",
       "    </tr>\n",
       "  </tbody>\n",
       "</table>\n",
       "</div>"
      ],
      "text/plain": [
       "      id grp\n",
       "1   1627   A\n",
       "10  2085   B\n",
       "12  2215   B\n",
       "43  3391   A\n",
       "45  3401   B"
      ]
     },
     "execution_count": 12,
     "metadata": {},
     "output_type": "execute_result"
    }
   ],
   "source": [
    "# Оставим только тех юзеров, которые заходили дни эксперимента.\n",
    "# Остальных не следует рассматривать, так они не видели изменений.\n",
    "df_participating = df_groups.query('id in @participating_id')\n",
    "df_participating.head()"
   ]
  },
  {
   "cell_type": "code",
   "execution_count": 13,
   "metadata": {
    "scrolled": false
   },
   "outputs": [
    {
     "data": {
      "text/html": [
       "<div>\n",
       "<style scoped>\n",
       "    .dataframe tbody tr th:only-of-type {\n",
       "        vertical-align: middle;\n",
       "    }\n",
       "\n",
       "    .dataframe tbody tr th {\n",
       "        vertical-align: top;\n",
       "    }\n",
       "\n",
       "    .dataframe thead th {\n",
       "        text-align: right;\n",
       "    }\n",
       "</style>\n",
       "<table border=\"1\" class=\"dataframe\">\n",
       "  <thead>\n",
       "    <tr style=\"text-align: right;\">\n",
       "      <th></th>\n",
       "      <th>id</th>\n",
       "      <th>grp</th>\n",
       "      <th>rev</th>\n",
       "    </tr>\n",
       "  </thead>\n",
       "  <tbody>\n",
       "    <tr>\n",
       "      <th>0</th>\n",
       "      <td>1627</td>\n",
       "      <td>A</td>\n",
       "      <td>990.0</td>\n",
       "    </tr>\n",
       "    <tr>\n",
       "      <th>1</th>\n",
       "      <td>2085</td>\n",
       "      <td>B</td>\n",
       "      <td>0.0</td>\n",
       "    </tr>\n",
       "    <tr>\n",
       "      <th>2</th>\n",
       "      <td>2215</td>\n",
       "      <td>B</td>\n",
       "      <td>0.0</td>\n",
       "    </tr>\n",
       "    <tr>\n",
       "      <th>3</th>\n",
       "      <td>3391</td>\n",
       "      <td>A</td>\n",
       "      <td>0.0</td>\n",
       "    </tr>\n",
       "    <tr>\n",
       "      <th>4</th>\n",
       "      <td>3401</td>\n",
       "      <td>B</td>\n",
       "      <td>0.0</td>\n",
       "    </tr>\n",
       "  </tbody>\n",
       "</table>\n",
       "</div>"
      ],
      "text/plain": [
       "     id grp    rev\n",
       "0  1627   A  990.0\n",
       "1  2085   B    0.0\n",
       "2  2215   B    0.0\n",
       "3  3391   A    0.0\n",
       "4  3401   B    0.0"
      ]
     },
     "execution_count": 13,
     "metadata": {},
     "output_type": "execute_result"
    }
   ],
   "source": [
    "# Дальше соединим df_participating с df_checks, чтобы увидеть сколько каждый пользователь принес денег\n",
    "# Кто не совершал покупку в эти дни получает 0 в rev\n",
    "df = df_participating.merge(df_checks, how='left', on='id')\n",
    "df['rev'] = df.rev.fillna(0)\n",
    "df.head()"
   ]
  },
  {
   "cell_type": "code",
   "execution_count": 14,
   "metadata": {},
   "outputs": [
    {
     "data": {
      "text/plain": [
       "student_id    True\n",
       "dtype: bool"
      ]
     },
     "execution_count": 14,
     "metadata": {},
     "output_type": "execute_result"
    }
   ],
   "source": [
    "df_users_visit.nunique() == df_users_visit.count()"
   ]
  },
  {
   "cell_type": "code",
   "execution_count": 15,
   "metadata": {},
   "outputs": [
    {
     "data": {
      "text/plain": [
       "count    1535.000000\n",
       "mean       47.439739\n",
       "std       290.766992\n",
       "min         0.000000\n",
       "25%         0.000000\n",
       "50%         0.000000\n",
       "75%         0.000000\n",
       "max      3660.000000\n",
       "Name: rev, dtype: float64"
      ]
     },
     "execution_count": 15,
     "metadata": {},
     "output_type": "execute_result"
    }
   ],
   "source": [
    "# Описательная статистика для контрольной группы\n",
    "# Большая часть значений равна нулю\n",
    "df.query('grp == \"A\"').rev.describe()"
   ]
  },
  {
   "cell_type": "code",
   "execution_count": 16,
   "metadata": {
    "scrolled": false
   },
   "outputs": [
    {
     "data": {
      "text/plain": [
       "count    6793.000000\n",
       "mean       57.864567\n",
       "std       313.197487\n",
       "min         0.000000\n",
       "25%         0.000000\n",
       "50%         0.000000\n",
       "75%         0.000000\n",
       "max      4650.000000\n",
       "Name: rev, dtype: float64"
      ]
     },
     "execution_count": 16,
     "metadata": {},
     "output_type": "execute_result"
    }
   ],
   "source": [
    "# Описательная статистика для экспериментальной группы\n",
    "# В данной группе также большая часть значений равна нулю\n",
    "df.query('grp == \"B\"').rev.describe()"
   ]
  },
  {
   "cell_type": "code",
   "execution_count": 17,
   "metadata": {},
   "outputs": [
    {
     "name": "stdout",
     "output_type": "stream",
     "text": [
      "Процент нулевых значений в контрольной группе 94.92 %\n",
      "Процент нулевых значений в экспериментальной группе 95.39 %\n"
     ]
    }
   ],
   "source": [
    "# Процентное содержание нулей в кажой группе\n",
    "print('Процент нулевых значений в контрольной группе', round(df.query('grp == \"A\" and rev == 0').id.count() / df.query('grp == \"A\"').id.count() * 100, 2), '%')\n",
    "print('Процент нулевых значений в экспериментальной группе', round(df.query('grp == \"B\" and rev == 0').id.count() / df.query('grp == \"B\"').id.count() * 100, 2), '%')"
   ]
  },
  {
   "cell_type": "code",
   "execution_count": 18,
   "metadata": {
    "scrolled": true
   },
   "outputs": [
    {
     "data": {
      "text/html": [
       "<div>\n",
       "<style scoped>\n",
       "    .dataframe tbody tr th:only-of-type {\n",
       "        vertical-align: middle;\n",
       "    }\n",
       "\n",
       "    .dataframe tbody tr th {\n",
       "        vertical-align: top;\n",
       "    }\n",
       "\n",
       "    .dataframe thead th {\n",
       "        text-align: right;\n",
       "    }\n",
       "</style>\n",
       "<table border=\"1\" class=\"dataframe\">\n",
       "  <thead>\n",
       "    <tr style=\"text-align: right;\">\n",
       "      <th></th>\n",
       "      <th>grp</th>\n",
       "      <th>avg_revenue</th>\n",
       "      <th>count_active</th>\n",
       "      <th>count_users</th>\n",
       "      <th>conversion</th>\n",
       "    </tr>\n",
       "  </thead>\n",
       "  <tbody>\n",
       "    <tr>\n",
       "      <th>0</th>\n",
       "      <td>A</td>\n",
       "      <td>47.439739</td>\n",
       "      <td>78</td>\n",
       "      <td>1535</td>\n",
       "      <td>0.050814</td>\n",
       "    </tr>\n",
       "    <tr>\n",
       "      <th>1</th>\n",
       "      <td>B</td>\n",
       "      <td>57.864567</td>\n",
       "      <td>313</td>\n",
       "      <td>6793</td>\n",
       "      <td>0.046077</td>\n",
       "    </tr>\n",
       "  </tbody>\n",
       "</table>\n",
       "</div>"
      ],
      "text/plain": [
       "  grp  avg_revenue  count_active  count_users  conversion\n",
       "0   A    47.439739            78         1535    0.050814\n",
       "1   B    57.864567           313         6793    0.046077"
      ]
     },
     "execution_count": 18,
     "metadata": {},
     "output_type": "execute_result"
    }
   ],
   "source": [
    "# Посмотрим размер групп, средние чеки и конверсию.\n",
    "# Видно, что конверсия уменьшилась у экспериментальной группы, но средний чек вырос 11 пунктов.\n",
    "\n",
    "# Функция, которая возвращает 1, если пользователь совершил покупку в эти, иначе вернет ноль.\n",
    "def active_user(x):\n",
    "    if x > 0:\n",
    "        return True\n",
    "    elif x == 0:\n",
    "        return False\n",
    "df['status_active'] = df.rev.apply(active_user)\n",
    "df_con = df.groupby('grp', as_index=False)\\\n",
    "    .agg({'rev': 'mean', 'status_active': 'sum', 'id': 'count'})\\\n",
    "    .rename(columns={'rev': 'avg_revenue', 'status_active': 'count_active', 'id': 'count_users'})\n",
    "df_con['conversion'] = df_con.count_active / df_con.count_users\n",
    "df_con.head()\n",
    "# Увидели подтверждение прошлого шага"
   ]
  },
  {
   "cell_type": "markdown",
   "metadata": {},
   "source": [
    "Видим, что имеются лишь небольшие различия в содеражнии нулевых значений в группах, поэтому будем рассматривать два возможных варианта: с нулевыми значениями в rev в группах; без нулевых значений в rev. Перед тем, как проводить A/B тесты: построим графики распределений групп, проверим группы на нормальность, посмотрим на различия в дисперсиях."
   ]
  },
  {
   "cell_type": "code",
   "execution_count": 19,
   "metadata": {},
   "outputs": [
    {
     "data": {
      "text/html": [
       "<div>\n",
       "<style scoped>\n",
       "    .dataframe tbody tr th:only-of-type {\n",
       "        vertical-align: middle;\n",
       "    }\n",
       "\n",
       "    .dataframe tbody tr th {\n",
       "        vertical-align: top;\n",
       "    }\n",
       "\n",
       "    .dataframe thead th {\n",
       "        text-align: right;\n",
       "    }\n",
       "</style>\n",
       "<table border=\"1\" class=\"dataframe\">\n",
       "  <thead>\n",
       "    <tr style=\"text-align: right;\">\n",
       "      <th></th>\n",
       "      <th>id</th>\n",
       "      <th>grp</th>\n",
       "      <th>rev</th>\n",
       "      <th>status_active</th>\n",
       "    </tr>\n",
       "  </thead>\n",
       "  <tbody>\n",
       "    <tr>\n",
       "      <th>0</th>\n",
       "      <td>1627</td>\n",
       "      <td>A</td>\n",
       "      <td>990.0</td>\n",
       "      <td>True</td>\n",
       "    </tr>\n",
       "    <tr>\n",
       "      <th>3</th>\n",
       "      <td>3391</td>\n",
       "      <td>A</td>\n",
       "      <td>0.0</td>\n",
       "      <td>False</td>\n",
       "    </tr>\n",
       "    <tr>\n",
       "      <th>13</th>\n",
       "      <td>109623</td>\n",
       "      <td>A</td>\n",
       "      <td>0.0</td>\n",
       "      <td>False</td>\n",
       "    </tr>\n",
       "    <tr>\n",
       "      <th>15</th>\n",
       "      <td>133678</td>\n",
       "      <td>A</td>\n",
       "      <td>0.0</td>\n",
       "      <td>False</td>\n",
       "    </tr>\n",
       "    <tr>\n",
       "      <th>23</th>\n",
       "      <td>175944</td>\n",
       "      <td>A</td>\n",
       "      <td>0.0</td>\n",
       "      <td>False</td>\n",
       "    </tr>\n",
       "  </tbody>\n",
       "</table>\n",
       "</div>"
      ],
      "text/plain": [
       "        id grp    rev  status_active\n",
       "0     1627   A  990.0           True\n",
       "3     3391   A    0.0          False\n",
       "13  109623   A    0.0          False\n",
       "15  133678   A    0.0          False\n",
       "23  175944   A    0.0          False"
      ]
     },
     "execution_count": 19,
     "metadata": {},
     "output_type": "execute_result"
    }
   ],
   "source": [
    "# Сделаем df, где будут представители только A группы с нулевыми значениями в rev\n",
    "df_a = df.query('grp == \"A\"')\n",
    "df_a.head()"
   ]
  },
  {
   "cell_type": "code",
   "execution_count": 20,
   "metadata": {},
   "outputs": [
    {
     "data": {
      "text/html": [
       "<div>\n",
       "<style scoped>\n",
       "    .dataframe tbody tr th:only-of-type {\n",
       "        vertical-align: middle;\n",
       "    }\n",
       "\n",
       "    .dataframe tbody tr th {\n",
       "        vertical-align: top;\n",
       "    }\n",
       "\n",
       "    .dataframe thead th {\n",
       "        text-align: right;\n",
       "    }\n",
       "</style>\n",
       "<table border=\"1\" class=\"dataframe\">\n",
       "  <thead>\n",
       "    <tr style=\"text-align: right;\">\n",
       "      <th></th>\n",
       "      <th>id</th>\n",
       "      <th>grp</th>\n",
       "      <th>rev</th>\n",
       "      <th>status_active</th>\n",
       "    </tr>\n",
       "  </thead>\n",
       "  <tbody>\n",
       "    <tr>\n",
       "      <th>0</th>\n",
       "      <td>1627</td>\n",
       "      <td>A</td>\n",
       "      <td>990.0</td>\n",
       "      <td>True</td>\n",
       "    </tr>\n",
       "    <tr>\n",
       "      <th>319</th>\n",
       "      <td>287008</td>\n",
       "      <td>A</td>\n",
       "      <td>1830.0</td>\n",
       "      <td>True</td>\n",
       "    </tr>\n",
       "    <tr>\n",
       "      <th>448</th>\n",
       "      <td>332387</td>\n",
       "      <td>A</td>\n",
       "      <td>2910.0</td>\n",
       "      <td>True</td>\n",
       "    </tr>\n",
       "    <tr>\n",
       "      <th>508</th>\n",
       "      <td>347455</td>\n",
       "      <td>A</td>\n",
       "      <td>2820.0</td>\n",
       "      <td>True</td>\n",
       "    </tr>\n",
       "    <tr>\n",
       "      <th>718</th>\n",
       "      <td>445767</td>\n",
       "      <td>A</td>\n",
       "      <td>3660.0</td>\n",
       "      <td>True</td>\n",
       "    </tr>\n",
       "  </tbody>\n",
       "</table>\n",
       "</div>"
      ],
      "text/plain": [
       "         id grp     rev  status_active\n",
       "0      1627   A   990.0           True\n",
       "319  287008   A  1830.0           True\n",
       "448  332387   A  2910.0           True\n",
       "508  347455   A  2820.0           True\n",
       "718  445767   A  3660.0           True"
      ]
     },
     "execution_count": 20,
     "metadata": {},
     "output_type": "execute_result"
    }
   ],
   "source": [
    "# Сделаем df, где будут представители только A группы без нулевых значениями в rev\n",
    "df_a_nozero = df.query('grp == \"A\" and rev > 0')\n",
    "df_a_nozero.head()"
   ]
  },
  {
   "cell_type": "code",
   "execution_count": 21,
   "metadata": {
    "scrolled": false
   },
   "outputs": [
    {
     "data": {
      "text/html": [
       "<div>\n",
       "<style scoped>\n",
       "    .dataframe tbody tr th:only-of-type {\n",
       "        vertical-align: middle;\n",
       "    }\n",
       "\n",
       "    .dataframe tbody tr th {\n",
       "        vertical-align: top;\n",
       "    }\n",
       "\n",
       "    .dataframe thead th {\n",
       "        text-align: right;\n",
       "    }\n",
       "</style>\n",
       "<table border=\"1\" class=\"dataframe\">\n",
       "  <thead>\n",
       "    <tr style=\"text-align: right;\">\n",
       "      <th></th>\n",
       "      <th>id</th>\n",
       "      <th>grp</th>\n",
       "      <th>rev</th>\n",
       "      <th>status_active</th>\n",
       "    </tr>\n",
       "  </thead>\n",
       "  <tbody>\n",
       "    <tr>\n",
       "      <th>1</th>\n",
       "      <td>2085</td>\n",
       "      <td>B</td>\n",
       "      <td>0.0</td>\n",
       "      <td>False</td>\n",
       "    </tr>\n",
       "    <tr>\n",
       "      <th>2</th>\n",
       "      <td>2215</td>\n",
       "      <td>B</td>\n",
       "      <td>0.0</td>\n",
       "      <td>False</td>\n",
       "    </tr>\n",
       "    <tr>\n",
       "      <th>4</th>\n",
       "      <td>3401</td>\n",
       "      <td>B</td>\n",
       "      <td>0.0</td>\n",
       "      <td>False</td>\n",
       "    </tr>\n",
       "    <tr>\n",
       "      <th>5</th>\n",
       "      <td>22994</td>\n",
       "      <td>B</td>\n",
       "      <td>0.0</td>\n",
       "      <td>False</td>\n",
       "    </tr>\n",
       "    <tr>\n",
       "      <th>6</th>\n",
       "      <td>26899</td>\n",
       "      <td>B</td>\n",
       "      <td>0.0</td>\n",
       "      <td>False</td>\n",
       "    </tr>\n",
       "  </tbody>\n",
       "</table>\n",
       "</div>"
      ],
      "text/plain": [
       "      id grp  rev  status_active\n",
       "1   2085   B  0.0          False\n",
       "2   2215   B  0.0          False\n",
       "4   3401   B  0.0          False\n",
       "5  22994   B  0.0          False\n",
       "6  26899   B  0.0          False"
      ]
     },
     "execution_count": 21,
     "metadata": {},
     "output_type": "execute_result"
    }
   ],
   "source": [
    "# Сделаем df, где будут представители только B группы с нулевыми значениями в rev\n",
    "df_b = df.query('grp == \"B\"')\n",
    "df_b.head()"
   ]
  },
  {
   "cell_type": "code",
   "execution_count": 22,
   "metadata": {},
   "outputs": [
    {
     "data": {
      "text/html": [
       "<div>\n",
       "<style scoped>\n",
       "    .dataframe tbody tr th:only-of-type {\n",
       "        vertical-align: middle;\n",
       "    }\n",
       "\n",
       "    .dataframe tbody tr th {\n",
       "        vertical-align: top;\n",
       "    }\n",
       "\n",
       "    .dataframe thead th {\n",
       "        text-align: right;\n",
       "    }\n",
       "</style>\n",
       "<table border=\"1\" class=\"dataframe\">\n",
       "  <thead>\n",
       "    <tr style=\"text-align: right;\">\n",
       "      <th></th>\n",
       "      <th>id</th>\n",
       "      <th>grp</th>\n",
       "      <th>rev</th>\n",
       "      <th>status_active</th>\n",
       "    </tr>\n",
       "  </thead>\n",
       "  <tbody>\n",
       "    <tr>\n",
       "      <th>10</th>\n",
       "      <td>100300</td>\n",
       "      <td>B</td>\n",
       "      <td>990.0000</td>\n",
       "      <td>True</td>\n",
       "    </tr>\n",
       "    <tr>\n",
       "      <th>12</th>\n",
       "      <td>108270</td>\n",
       "      <td>B</td>\n",
       "      <td>290.0000</td>\n",
       "      <td>True</td>\n",
       "    </tr>\n",
       "    <tr>\n",
       "      <th>246</th>\n",
       "      <td>264473</td>\n",
       "      <td>B</td>\n",
       "      <td>1900.0001</td>\n",
       "      <td>True</td>\n",
       "    </tr>\n",
       "    <tr>\n",
       "      <th>279</th>\n",
       "      <td>274352</td>\n",
       "      <td>B</td>\n",
       "      <td>690.0000</td>\n",
       "      <td>True</td>\n",
       "    </tr>\n",
       "    <tr>\n",
       "      <th>299</th>\n",
       "      <td>280036</td>\n",
       "      <td>B</td>\n",
       "      <td>199.0000</td>\n",
       "      <td>True</td>\n",
       "    </tr>\n",
       "  </tbody>\n",
       "</table>\n",
       "</div>"
      ],
      "text/plain": [
       "         id grp        rev  status_active\n",
       "10   100300   B   990.0000           True\n",
       "12   108270   B   290.0000           True\n",
       "246  264473   B  1900.0001           True\n",
       "279  274352   B   690.0000           True\n",
       "299  280036   B   199.0000           True"
      ]
     },
     "execution_count": 22,
     "metadata": {},
     "output_type": "execute_result"
    }
   ],
   "source": [
    "# Сделаем df, где будут представители только B группы без нулевых значений в rev\n",
    "df_b_nozero = df.query('grp == \"B\" and rev > 0')\n",
    "df_b_nozero.head()"
   ]
  },
  {
   "cell_type": "code",
   "execution_count": 23,
   "metadata": {
    "scrolled": true
   },
   "outputs": [
    {
     "data": {
      "text/plain": [
       "<matplotlib.axes._subplots.AxesSubplot at 0x7f6d7b4d7a20>"
      ]
     },
     "execution_count": 23,
     "metadata": {},
     "output_type": "execute_result"
    },
    {
     "data": {
      "image/png": "[encoded data removed]",
      "text/plain": [
       "<Figure size 432x288 with 1 Axes>"
      ]
     },
     "metadata": {
      "needs_background": "light"
     },
     "output_type": "display_data"
    }
   ],
   "source": [
    "#скрипичный график\n",
    "#Видно, что большая часть значений не более 200 распределились похожим образом.\n",
    "sns.violinplot(x=\"grp\", y=\"rev\", data=df.query('rev>=0'), palette=[\"r\", \"g\"])\n"
   ]
  },
  {
   "cell_type": "code",
   "execution_count": 24,
   "metadata": {},
   "outputs": [
    {
     "data": {
      "text/plain": [
       "<matplotlib.axes._subplots.AxesSubplot at 0x7f6d76f94080>"
      ]
     },
     "execution_count": 24,
     "metadata": {},
     "output_type": "execute_result"
    },
    {
     "data": {
      "image/png": "[encoded data removed]",
      "text/plain": [
       "<Figure size 432x288 with 1 Axes>"
      ]
     },
     "metadata": {
      "needs_background": "light"
     },
     "output_type": "display_data"
    }
   ],
   "source": [
    "# Теперь посмотрим на значения, которые больше нуля.\n",
    "# Пока довольно трудно сказать о статистических изменениях по графикам.\n",
    "sns.violinplot(x=\"grp\", y=\"rev\", data=df.query('rev > 0'), palette=[\"r\", \"g\"])"
   ]
  },
  {
   "cell_type": "code",
   "execution_count": 25,
   "metadata": {
    "scrolled": true
   },
   "outputs": [
    {
     "data": {
      "text/plain": [
       "<seaborn.axisgrid.FacetGrid at 0x7f6d76ef71d0>"
      ]
     },
     "execution_count": 25,
     "metadata": {},
     "output_type": "execute_result"
    },
    {
     "data": {
      "image/png": "[encoded data removed]",
      "text/plain": [
       "<Figure size 354.54x307.44 with 1 Axes>"
      ]
     },
     "metadata": {},
     "output_type": "display_data"
    }
   ],
   "source": [
    "# Гистограммы распрделения для значений прибыли больше 0.\n",
    "# Здесь видно, что различия среднего чека обеспечивает покупки на чуть менее 2000.\n",
    "df_gist = df.query('rev > 0').groupby(['rev','grp'], as_index=False).id.count().rename(columns={'id': 'count_users'})\n",
    "sns.set(rc={'figure.figsize':(11.7,3.27)})\n",
    "sns.relplot(\n",
    "    data=df_gist, kind=\"line\",\n",
    "    x=\"rev\", y=\"count_users\",\n",
    "    hue=\"grp\", height=4.27\n",
    ")\n"
   ]
  },
  {
   "cell_type": "markdown",
   "metadata": {},
   "source": [
    "Видно, что сильно выросли покупки чуть менее 2000 рублей и покуки около 1000 рублей. Это одни из главных причин увеличения среднего в группе B.\n",
    "\n"
   ]
  },
  {
   "cell_type": "markdown",
   "metadata": {},
   "source": [
    "По графикам видно, что распредления у двух выборок довольно далеки от нормального, однако проверим данноу утверждения с помощью\n",
    "тестов."
   ]
  },
  {
   "cell_type": "code",
   "execution_count": 26,
   "metadata": {},
   "outputs": [
    {
     "name": "stdout",
     "output_type": "stream",
     "text": [
      "NormaltestResult(statistic=2235.0038926868115, pvalue=0.0)\n",
      "NormaltestResult(statistic=7799.5839920248845, pvalue=0.0)\n"
     ]
    }
   ],
   "source": [
    "# У двух выборок p-value = 0, следовательно наши выборки (с нулевыми значениями) не имеют нормальное распредление\n",
    "print(ss.normaltest(df_a.rev))\n",
    "print(ss.normaltest(df_b.rev))"
   ]
  },
  {
   "cell_type": "code",
   "execution_count": 27,
   "metadata": {},
   "outputs": [
    {
     "name": "stdout",
     "output_type": "stream",
     "text": [
      "NormaltestResult(statistic=30.378419638487475, pvalue=2.5316868804220266e-07)\n",
      "NormaltestResult(statistic=7.022269699078301, pvalue=0.029863005181946005)\n"
     ]
    }
   ],
   "source": [
    "# У двух выборок p-value меньше 0.05, следовательно наши выборки (без нулевых значениями) не имеют нормальное распредление\n",
    "print(ss.normaltest(df_a_nozero.rev))\n",
    "print(ss.normaltest(df_b_nozero.rev))"
   ]
  },
  {
   "cell_type": "code",
   "execution_count": 28,
   "metadata": {},
   "outputs": [
    {
     "name": "stdout",
     "output_type": "stream",
     "text": [
      "С нулевыми значениями. p-value = 0.013129800854584504\n",
      "Без нулевых значений. p-value = 0.5524868375224445\n"
     ]
    }
   ],
   "source": [
    "# Проверяю различия в дисперсиях\n",
    "# Pvalue < 0.05. Принимаю гипотезу о различии дисперсий у групп с нулевыми значениями\n",
    "print('С нулевыми значениями. p-value =', ss.levene(df_a.rev, df_b.rev, center='mean')[1])\n",
    "# Pvalue > 0.05. Не могу принять гипотезу о различии дисперсий у групп без нулевых значений\n",
    "print('Без нулевых значений. p-value =', ss.levene(df_a_nozero.rev, df_b_nozero.rev, center='mean')[1])\n"
   ]
  },
  {
   "cell_type": "markdown",
   "metadata": {},
   "source": [
    "Выводы перед A/B тестированием.\n",
    "Группы с нулевыми значениями в rev:\n",
    "1. Обе выборки не нормального распределения;\n",
    "2. Дисперсии отличаются;\n",
    "3. Система сплитования нормальная;\n",
    "4. Имеются явные выбросы;\n",
    "5. В контрольной группе 94.92 % нулевых значений, в экспериментальной группе 95.39 %.\n",
    "\n",
    "\n",
    "Группы без нулевых значений в rev:\n",
    "1. Обе выборки не нормального распределения;\n",
    "2. Дисперсии статистически не отличаются;\n",
    "3. Система сплитования не очень из-за небольшого кол-ва данных;\n",
    "4. Выбросы также имеются."
   ]
  },
  {
   "cell_type": "markdown",
   "metadata": {},
   "source": [
    "Выбор теста.\n",
    "Для проведения теста имеем: t-test, U-критерий, bootstrap.\n",
    "T-test не буду использовать из отсутствия нормального распределений, да и у групп с нулевыми значениями имеются различные дисперсии. U-критерий посмотрим, но вывод будем строить на основе bootstrap, так как результаты теста Манна Уитни сложно интерпретировать."
   ]
  },
  {
   "cell_type": "code",
   "execution_count": null,
   "metadata": {},
   "outputs": [],
   "source": []
  },
  {
   "cell_type": "code",
   "execution_count": 29,
   "metadata": {
    "scrolled": true
   },
   "outputs": [
    {
     "data": {
      "text/plain": [
       "MannwhitneyuResult(statistic=5235110.0, pvalue=0.4908589066101978)"
      ]
     },
     "execution_count": 29,
     "metadata": {},
     "output_type": "execute_result"
    }
   ],
   "source": [
    "# Критерий Мана-Уитни для групп с нулевыми значениями в rev\n",
    "# Статистически значимых различий U-критерий не показал.\n",
    "ss.mannwhitneyu(df_a['rev'], df_b['rev'])"
   ]
  },
  {
   "cell_type": "code",
   "execution_count": 30,
   "metadata": {},
   "outputs": [
    {
     "data": {
      "text/plain": [
       "MannwhitneyuResult(statistic=8990.0, pvalue=0.000273244700505943)"
      ]
     },
     "execution_count": 30,
     "metadata": {},
     "output_type": "execute_result"
    }
   ],
   "source": [
    "# Критерий Мана-Уитни для значений без нулей в rev.\n",
    "# Статистически значимые различия U-критерий обнаружил.\n",
    "ss.mannwhitneyu(df_a_nozero['rev'], df_b_nozero['rev'])"
   ]
  },
  {
   "cell_type": "code",
   "execution_count": null,
   "metadata": {},
   "outputs": [],
   "source": []
  },
  {
   "cell_type": "code",
   "execution_count": 31,
   "metadata": {
    "scrolled": true
   },
   "outputs": [
    {
     "data": {
      "application/vnd.jupyter.widget-view+json": {
       "model_id": "2a79c9af1d71479dbac12581c55aabff",
       "version_major": 2,
       "version_minor": 0
      },
      "text/plain": [
       "HBox(children=(FloatProgress(value=0.0, max=10000.0), HTML(value='')))"
      ]
     },
     "metadata": {},
     "output_type": "display_data"
    },
    {
     "name": "stdout",
     "output_type": "stream",
     "text": [
      "\n"
     ]
    },
    {
     "data": {
      "text/plain": [
       "0.34618164986816014"
      ]
     },
     "execution_count": 31,
     "metadata": {},
     "output_type": "execute_result"
    }
   ],
   "source": [
    "# Bootstrap для групп с нулями в rev.\n",
    "# Оставляем гипотезу о равных значения в двух группах, так как pvalue > 0.05.\n",
    "booted_data = get_bootstrap(df_a['rev'], df_b['rev']) \n",
    "booted_data[\"p_value\"]"
   ]
  },
  {
   "cell_type": "code",
   "execution_count": 32,
   "metadata": {},
   "outputs": [
    {
     "data": {
      "application/vnd.jupyter.widget-view+json": {
       "model_id": "d20f797f73b149359067829b1e080849",
       "version_major": 2,
       "version_minor": 0
      },
      "text/plain": [
       "HBox(children=(FloatProgress(value=0.0, max=10000.0), HTML(value='')))"
      ]
     },
     "metadata": {},
     "output_type": "display_data"
    },
    {
     "name": "stdout",
     "output_type": "stream",
     "text": [
      "\n"
     ]
    },
    {
     "data": {
      "text/plain": [
       "0.01859658430369356"
      ]
     },
     "execution_count": 32,
     "metadata": {},
     "output_type": "execute_result"
    }
   ],
   "source": [
    "# Bootstrap для групп без нулей в rev.\n",
    "# Принимаем гипотезу о различии в средних значения в двух группах, так как pvalue < 0.05.\n",
    "booted_data = get_bootstrap(df_a_nozero['rev'], df_b_nozero['rev']) \n",
    "booted_data[\"p_value\"]"
   ]
  },
  {
   "cell_type": "markdown",
   "metadata": {},
   "source": [
    "На этом этапе видно, что существуют два различных исхода тестирования: консервативное (в rev есть нулевые значения) и передовой (из rev убрали нулевые значения). Первый вариант можно принять, когда совем не хочется рисковать. Так на большую часть пользователей изменения вообще не повлияли, следует подробнее изучить второй вариант.  "
   ]
  },
  {
   "cell_type": "code",
   "execution_count": 33,
   "metadata": {
    "scrolled": false
   },
   "outputs": [
    {
     "data": {
      "application/vnd.jupyter.widget-view+json": {
       "model_id": "74c7189b20e24bd0a72f4a2ee4771893",
       "version_major": 2,
       "version_minor": 0
      },
      "text/plain": [
       "HBox(children=(FloatProgress(value=0.0, max=10000.0), HTML(value='')))"
      ]
     },
     "metadata": {},
     "output_type": "display_data"
    },
    {
     "name": "stdout",
     "output_type": "stream",
     "text": [
      "\n"
     ]
    },
    {
     "data": {
      "application/vnd.jupyter.widget-view+json": {
       "model_id": "19c255a4f4e64f0db82982227459ebba",
       "version_major": 2,
       "version_minor": 0
      },
      "text/plain": [
       "HBox(children=(FloatProgress(value=0.0, max=10000.0), HTML(value='')))"
      ]
     },
     "metadata": {},
     "output_type": "display_data"
    },
    {
     "name": "stdout",
     "output_type": "stream",
     "text": [
      "\n"
     ]
    },
    {
     "data": {
      "application/vnd.jupyter.widget-view+json": {
       "model_id": "056d23c83f664ae7a72272bdda92e09b",
       "version_major": 2,
       "version_minor": 0
      },
      "text/plain": [
       "HBox(children=(FloatProgress(value=0.0, max=10000.0), HTML(value='')))"
      ]
     },
     "metadata": {},
     "output_type": "display_data"
    },
    {
     "name": "stdout",
     "output_type": "stream",
     "text": [
      "\n"
     ]
    },
    {
     "data": {
      "application/vnd.jupyter.widget-view+json": {
       "model_id": "f331cde1733b45a5861f6f6be31073b5",
       "version_major": 2,
       "version_minor": 0
      },
      "text/plain": [
       "HBox(children=(FloatProgress(value=0.0, max=10000.0), HTML(value='')))"
      ]
     },
     "metadata": {},
     "output_type": "display_data"
    },
    {
     "name": "stdout",
     "output_type": "stream",
     "text": [
      "\n"
     ]
    },
    {
     "data": {
      "application/vnd.jupyter.widget-view+json": {
       "model_id": "1416dd1fd2ef42f7870cda21c37f7554",
       "version_major": 2,
       "version_minor": 0
      },
      "text/plain": [
       "HBox(children=(FloatProgress(value=0.0, max=10000.0), HTML(value='')))"
      ]
     },
     "metadata": {},
     "output_type": "display_data"
    },
    {
     "name": "stdout",
     "output_type": "stream",
     "text": [
      "\n",
      "0.0182661230919667\n"
     ]
    }
   ],
   "source": [
    "# Возможно, во втором варианте изменения вызваны из-за разных размер выборок, \n",
    "# поэтому буду брать по 60 случайных знчений из двух групп. \n",
    "# После буду применять бутстрап для проверки на статистические различия. Сделаю 5 таких запусков, чтобы обезопасить себя \n",
    "# от фактора случайности.\n",
    "# Также посчитаем средний pvalue для критерия Мана Уитни\n",
    "sum_pvalues_boot = 0\n",
    "n = 5\n",
    "for i in range(n):\n",
    "    df_int_a = df_a_nozero['rev'].sample(60, replace = False).values\n",
    "    df_int_b = df_b_nozero['rev'].sample(60, replace = False).values\n",
    "    booted_data = get_bootstrap(df_a_nozero['rev'], df_b_nozero['rev'])['p_value']\n",
    "    sum_pvalues_boot += booted_data \n",
    "print(sum_pvalues_boot / n)\n",
    "\n",
    "   \n"
   ]
  },
  {
   "cell_type": "code",
   "execution_count": 34,
   "metadata": {},
   "outputs": [
    {
     "name": "stdout",
     "output_type": "stream",
     "text": [
      "0.04408387574546974\n"
     ]
    }
   ],
   "source": [
    "sum_pvalues_u = 0\n",
    "n = 1000\n",
    "for i in range(n):\n",
    "    df_int_a = df_a_nozero['rev'].sample(60, replace = False).values\n",
    "    df_int_b = df_b_nozero['rev'].sample(60, replace = False).values\n",
    "    sum_pvalues_u += ss.mannwhitneyu(df_int_a, df_int_b)[1]\n",
    "print(sum_pvalues_u / n)"
   ]
  },
  {
   "cell_type": "markdown",
   "metadata": {},
   "source": [
    "Вывод.\n",
    "Если мы совсем не хотим рисковать, то следует принять нулевую гипотезу, так как бутстрап и критерий Мана Уитни показали, что статистически в двух группах не наблюдаются (с нулевыми значениями в rev), однако альтернативная гипотеза имеет право на существоания (если убрать нулевые значения, которых большинство в двух группах). Чуть выше показал, что если размер выборок довести до одного размера, также статистические различия будут сохраняться в бутстрапе, но с тестом U уже не все так очевидно.\n",
    "Я предлагаю принять гипотезу о различии в средних и запустить новую механику в данных момент, однако считаю, что необходимо дальнейшие исследования об услугах на которые повлияли изменения, также хотелось бы помотреть на корректность AA теста."
   ]
  },
  {
   "cell_type": "markdown",
   "metadata": {},
   "source": [
    "# Задание 3. Python"
   ]
  },
  {
   "cell_type": "markdown",
   "metadata": {},
   "source": [
    "1. Реализуйте функцию, которая будет автоматически подгружать информацию из дополнительного файла groups_add.csv (заголовки могут отличаться) и на основании дополнительных параметров пересчитывать метрики.\n",
    "\n",
    "2. Реализуйте функцию, которая будет строить графики по получаемым метрикам."
   ]
  },
  {
   "cell_type": "markdown",
   "metadata": {},
   "source": [
    "Функция будет принимать два аргумента: файл с добавленными пользователями и исходные данные. Исходные данные - это таблица, которая была получена в первом задании, то есть пользователи без учета id в файлe group_add.\n",
    "Функция add_information выводит исходный df и измененный df за счет добавления новых пользоватлей. Кроме этого, функция возвращает df, который следует использовать при построении графиков."
   ]
  },
  {
   "cell_type": "code",
   "execution_count": 35,
   "metadata": {},
   "outputs": [
    {
     "data": {
      "text/html": [
       "<div>\n",
       "<style scoped>\n",
       "    .dataframe tbody tr th:only-of-type {\n",
       "        vertical-align: middle;\n",
       "    }\n",
       "\n",
       "    .dataframe tbody tr th {\n",
       "        vertical-align: top;\n",
       "    }\n",
       "\n",
       "    .dataframe thead th {\n",
       "        text-align: right;\n",
       "    }\n",
       "</style>\n",
       "<table border=\"1\" class=\"dataframe\">\n",
       "  <thead>\n",
       "    <tr style=\"text-align: right;\">\n",
       "      <th></th>\n",
       "      <th>id</th>\n",
       "      <th>grp</th>\n",
       "      <th>rev</th>\n",
       "      <th>status_active</th>\n",
       "    </tr>\n",
       "  </thead>\n",
       "  <tbody>\n",
       "    <tr>\n",
       "      <th>0</th>\n",
       "      <td>1627</td>\n",
       "      <td>A</td>\n",
       "      <td>990.0</td>\n",
       "      <td>True</td>\n",
       "    </tr>\n",
       "    <tr>\n",
       "      <th>1</th>\n",
       "      <td>2085</td>\n",
       "      <td>B</td>\n",
       "      <td>0.0</td>\n",
       "      <td>False</td>\n",
       "    </tr>\n",
       "    <tr>\n",
       "      <th>2</th>\n",
       "      <td>2215</td>\n",
       "      <td>B</td>\n",
       "      <td>0.0</td>\n",
       "      <td>False</td>\n",
       "    </tr>\n",
       "    <tr>\n",
       "      <th>3</th>\n",
       "      <td>3391</td>\n",
       "      <td>A</td>\n",
       "      <td>0.0</td>\n",
       "      <td>False</td>\n",
       "    </tr>\n",
       "    <tr>\n",
       "      <th>4</th>\n",
       "      <td>3401</td>\n",
       "      <td>B</td>\n",
       "      <td>0.0</td>\n",
       "      <td>False</td>\n",
       "    </tr>\n",
       "  </tbody>\n",
       "</table>\n",
       "</div>"
      ],
      "text/plain": [
       "     id grp    rev  status_active\n",
       "0  1627   A  990.0           True\n",
       "1  2085   B    0.0          False\n",
       "2  2215   B    0.0          False\n",
       "3  3391   A    0.0          False\n",
       "4  3401   B    0.0          False"
      ]
     },
     "execution_count": 35,
     "metadata": {},
     "output_type": "execute_result"
    }
   ],
   "source": [
    "# Пример исходного df\n",
    "df.head()"
   ]
  },
  {
   "cell_type": "code",
   "execution_count": 36,
   "metadata": {
    "scrolled": true
   },
   "outputs": [],
   "source": [
    "# Функция для обновления данных\n",
    "# path - путь к файлу, df_original - исходный df\n",
    "def add_information(path, df_original):\n",
    "    df_add = pd.read_csv(path) #Загружаем таблицу с дополнительными пользователями\n",
    "    df_add1 = df_add.merge(df_checks, how='left') #Добавляем доп пользователям их затраты из таблицы checks.csv\n",
    "    df_add1['rev'] = df.rev.fillna(0) # Ставим 0 в rev, если пользователь не совершал покупки\n",
    "    df_add1['status_active'] = df_add1['rev'].apply(lambda rev: 1 if rev>0 else 0) #Совершал ли покупку пользователь\n",
    "    df_2 = df_original.copy() #Делаем копию основного df, чтобы не менять df_original\n",
    "    df_2 = df_2.merge(df_add1, how='outer') # Добавляем к основному df новых пользователей\n",
    "#     Дальше идет расчет метрик для исходного df\n",
    "    df_original = df_original.groupby('grp', as_index=False)\\\n",
    "            .agg({'rev': 'mean', 'status_active': 'sum', 'id': 'count'})\\\n",
    "            .rename(columns={'rev': 'avg_revenue', 'status_active': 'count_active', 'id': 'count_users'})\n",
    "    df_original['conversion'] = df_original.count_active / df_original.count_users\n",
    "#     Теперь метрики для измененного df\n",
    "    df_2 = df_2.groupby('grp', as_index=False)\\\n",
    "        .agg({'rev': 'mean', 'status_active': 'sum', 'id': 'count'})\\\n",
    "        .rename(columns={'rev': 'avg_revenue', 'status_active': 'count_active', 'id': 'count_users'})\n",
    "    df_2['conversion'] = df_2.count_active / df_2.count_users\n",
    "    print('\\t\\t  Исходные метрики')\n",
    "    print(df_original)\n",
    "    print()\n",
    "    print('\\t     Метрики поле обновления данных')\n",
    "    print(df_2)\n",
    "    return df_2"
   ]
  },
  {
   "cell_type": "code",
   "execution_count": 38,
   "metadata": {},
   "outputs": [],
   "source": [
    "# Функция для визуализации обновленных метрик.\n",
    "def visualization(df_for_visualization):\n",
    "    plt.figure(figsize=(10,6)) #Размер графиков\n",
    "    plt.subplots_adjust(wspace=0.3, hspace=0.6) #Размер между графиками\n",
    "    pylab.subplot (2, 2, 1) #Первая позиция в сетке 2 на 2\n",
    "    sns.barplot(data=df_for_visualization, x='grp', y='avg_revenue') # График для средней прибыли по группам\n",
    "    pylab.title (\"Средние чеки\") #Заголовок первого графика\n",
    "#     Дальше следуют аналогичные действия, поэтому описывать не буду\n",
    "    pylab.subplot (2, 2, 2)\n",
    "    sns.barplot(data=df_for_visualization, x='grp', y='count_active')\n",
    "    pylab.title (\"Кол-во активных пользоватлей\")\n",
    "    pylab.subplot (2, 2, 3)\n",
    "    sns.barplot(data=df_for_visualization, x='grp', y='count_users')\n",
    "    pylab.title (\"Кол-во пользователей\")\n",
    "    pylab.subplot (2, 2, 4)\n",
    "    pylab.title (\"Конверсия\")\n",
    "    sns.barplot(data=df_for_visualization, x='grp', y='conversion')\n"
   ]
  },
  {
   "cell_type": "markdown",
   "metadata": {},
   "source": [
    "/mnt/HC_Volume_18315164/home-jupyter/jupyter-d-nichiporenko/final_project/Проект_2_group_add.csv - путь к файлу в моем юпитере"
   ]
  },
  {
   "cell_type": "code",
   "execution_count": 41,
   "metadata": {
    "scrolled": false
   },
   "outputs": [
    {
     "name": "stdout",
     "output_type": "stream",
     "text": [
      "Введите путь к файлу /mnt/HC_Volume_18315164/home-jupyter/jupyter-d-nichiporenko/final_project/Проект_2_group_add.csv\n",
      "\t\t  Исходные метрики\n",
      "  grp  avg_revenue  count_active  count_users  conversion\n",
      "0   A    47.439739            78         1535    0.050814\n",
      "1   B    57.864567           313         6793    0.046077\n",
      "\n",
      "\t     Метрики поле обновления данных\n",
      "  grp  avg_revenue  count_active  count_users  conversion\n",
      "0   A    46.769428            78         1557    0.050096\n",
      "1   B    57.605129           316         6863    0.046044\n"
     ]
    }
   ],
   "source": [
    "path_to_file = input('Введите путь к файлу ') \n",
    "df_for_visualization = add_information(path_to_file, df) #Вызываем функцию, чтобы вывести результаты, а также вернуть значения \n",
    "# для функции графиков и положить его в переменную path_to_file"
   ]
  },
  {
   "cell_type": "code",
   "execution_count": 42,
   "metadata": {},
   "outputs": [
    {
     "data": {
      "image/png": "[encoded data removed]",
      "text/plain": [
       "<Figure size 720x432 with 4 Axes>"
      ]
     },
     "metadata": {},
     "output_type": "display_data"
    }
   ],
   "source": [
    "visualization(df_for_visualization)"
   ]
  },
  {
   "cell_type": "markdown",
   "metadata": {},
   "source": [
    "# Задание 2. SQL."
   ]
  },
  {
   "cell_type": "code",
   "execution_count": 43,
   "metadata": {},
   "outputs": [],
   "source": [
    "# Импорт библиотеки для работы с clickhouse\n",
    "import pandahouse as ph"
   ]
  },
  {
   "cell_type": "code",
   "execution_count": 44,
   "metadata": {},
   "outputs": [],
   "source": [
    "# Парамаетры подключения к clickhouse\n",
    "connection_default = {'host': 'https://clickhouse.lab.karpov.courses',\n",
    "                      'database':'default',\n",
    "                      'user':'student', \n",
    "                      'password':'dpo_python_2020'\n",
    "                     }"
   ]
  },
  {
   "cell_type": "markdown",
   "metadata": {},
   "source": [
    "Условие 1 задачи.\n",
    "Образовательные курсы состоят из различных уроков, каждый из которых состоит из нескольких маленьких заданий. Каждое такое маленькое задание называется \"горошиной\".\n",
    "Назовём очень усердным учеником того пользователя, который хотя бы раз за текущий месяц правильно решил 20 горошин.\n",
    "Необходимо написать оптимальный запрос, который даст информацию о количестве очень усердных студентов.NB! Под усердным студентом мы понимаем студента, который правильно решил 20 задач за текущий месяц."
   ]
  },
  {
   "cell_type": "code",
   "execution_count": 45,
   "metadata": {},
   "outputs": [],
   "source": [
    "# Решение 1 задачи\n",
    "q_1 = '''\n",
    "    SELECT\n",
    "        uniqExact(st_id) AS count_good_fellows\n",
    "    FROM\n",
    "        (\n",
    "            SELECT\n",
    "                st_id,\n",
    "                SUM(correct) AS count_correct_tasks\n",
    "            FROM peas\n",
    "            WHERE correct = 1\n",
    "            GROUP BY\n",
    "                st_id\n",
    "            HAVING\n",
    "                count_correct_tasks >= 20\n",
    "        )\n",
    "    '''"
   ]
  },
  {
   "cell_type": "code",
   "execution_count": 46,
   "metadata": {},
   "outputs": [
    {
     "name": "stdout",
     "output_type": "stream",
     "text": [
      "Кол-во усердных учеников равно 136\n"
     ]
    }
   ],
   "source": [
    "df_sql_1 = ph.read_clickhouse(query=q_1, connection=connection_default)\n",
    "print(f'Кол-во усердных учеников равно {df_sql_1.count_good_fellows[0]}')"
   ]
  },
  {
   "cell_type": "code",
   "execution_count": null,
   "metadata": {},
   "outputs": [],
   "source": []
  },
  {
   "cell_type": "markdown",
   "metadata": {},
   "source": [
    "Условие 2 задачи.\n",
    "Образовательная платформа предлагает пройти студентам курсы по модели trial: студент может решить бесплатно лишь 30 горошин в день. Для неограниченного количества заданий в определенной дисциплине студенту необходимо приобрести полный доступ. Команда провела эксперимент, где был протестирован новый экран оплаты.\n",
    "Необходимо в одном запросе выгрузить следующую информацию о группах пользователей:\n",
    "ARPU (Доход / Общее кол-во пользователей)\n",
    "ARPAU (Доход / Кол-во активных пользоватлей)\n",
    "CR в покупку (Пользователи, которые купили курс / Общее кол-во пользоватлей) \n",
    "СR активного пользователя в покупку (Пользователи, которые купили курс/ Общее кол-во пользвателей)\n",
    "CR пользователя из активности по математике (subject = ’math’) в покупку курса по математике (Пользователи, которые активные в математике и купили курс / Кол-во пользователей, которые купили кур по математике).\n",
    "\n",
    "ARPU считается относительно всех пользователей, попавших в группы.\n",
    "Активным считается пользователь, за все время решивший больше 10 задач правильно в любых дисциплинах.\n",
    "Активным по математике считается пользователь, за все время решивший 2 или больше задач правильно по математике.\n",
    "\n",
    "Активными считаю тех, кто решил >10 задач или активен по математике."
   ]
  },
  {
   "cell_type": "code",
   "execution_count": 47,
   "metadata": {},
   "outputs": [],
   "source": [
    "# Решение 2 задачи \n",
    "q = '''\n",
    "SELECT \n",
    "    test_grp,\n",
    "    SUM(money) / uniqExact(st_id) AS ARPU,\n",
    "    SUM(money) / countIf(DISTINCT st_id, correct > 10 OR active_math = 1) AS ARPAU,\n",
    "    SUM(purchase) / count(st_id) AS CR,\n",
    "    SUM(purchase) / countIf(st_id, correct > 10 OR active_math = 1) AS CRA,\n",
    "    sumIf(purchase, buy_math = 1 AND active_math = 1) / countIf(st_id, buy_math = 1) AS CR_math\n",
    "FROM    \n",
    "    (SELECT st_id, test_grp, subjects, correct, active_math, If(correct > 10, 1,0) AS active_user, money, If(money > 0, 1, 0) AS purchase, If(money > 0 AND subject = 'Math', 1, 0) AS buy_math\n",
    "    FROM\n",
    "        (SELECT *\n",
    "        FROM    \n",
    "            studs AS l\n",
    "        LEFT JOIN\n",
    "            (SELECT st_id, groupArray(subject) AS subjects, SUM(correct) AS correct, SUM(active_math) AS active_math\n",
    "            FROM\n",
    "                (SELECT\n",
    "                    st_id,\n",
    "                    subject,\n",
    "                    SUM(correct) AS correct,\n",
    "                    If(correct > 2 AND subject='Math', 1, 0) AS active_math\n",
    "                FROM peas\n",
    "                GROUP BY \n",
    "                    st_id,\n",
    "                    subject)\n",
    "            GROUP BY\n",
    "                st_id) AS r\n",
    "        ON l.st_id = r.st_id) AS l\n",
    "    LEFT JOIN \n",
    "        final_project_check AS r\n",
    "    ON l.st_id = r.st_id)\n",
    "GROUP BY\n",
    "    test_grp\n",
    "    '''"
   ]
  },
  {
   "cell_type": "code",
   "execution_count": 48,
   "metadata": {},
   "outputs": [
    {
     "name": "stdout",
     "output_type": "stream",
     "text": [
      "  test_grp          ARPU         ARPAU        CR       CRA  CR_math\n",
      "0  control   4540.983607  10335.820896  0.058442  0.131387    0.375\n",
      "1    pilot  11508.474576  31146.788991  0.140523  0.361345    0.250\n"
     ]
    }
   ],
   "source": [
    "df_sql = ph.read_clickhouse(query=q, connection=connection_default)\n",
    "print(df_sql)"
   ]
  },
  {
   "cell_type": "code",
   "execution_count": null,
   "metadata": {},
   "outputs": [],
   "source": []
  }
 ],
 "metadata": {
  "kernelspec": {
   "display_name": "Python 3",
   "language": "python",
   "name": "python3"
  },
  "language_info": {
   "codemirror_mode": {
    "name": "ipython",
    "version": 3
   },
   "file_extension": ".py",
   "mimetype": "text/x-python",
   "name": "python",
   "nbconvert_exporter": "python",
   "pygments_lexer": "ipython3",
   "version": "3.7.3"
  }
 },
 "nbformat": 4,
 "nbformat_minor": 4
}
